{
 "cells": [
  {
   "cell_type": "markdown",
   "id": "4815a927-c561-45ad-a1b1-9c8787a614bf",
   "metadata": {},
   "source": [
    "## Section 1 : Descriptive Statistics"
   ]
  },
  {
   "cell_type": "markdown",
   "id": "fbdd9785-ade5-4dc3-9cd8-b774e95a6529",
   "metadata": {},
   "source": [
    "### 1. Measures of Central Tendancy\n",
    "__Q. Given the dataset data = [12, 15, 14, 10, 18, 20, 22, 24, 17, 19], calculate the Mean, Median, and Mode using both Excel/Google Sheets/ Python.__"
   ]
  },
  {
   "cell_type": "code",
   "execution_count": 1,
   "id": "cb71579c-a8cf-47e5-8627-d392f99adacb",
   "metadata": {},
   "outputs": [
    {
     "name": "stdout",
     "output_type": "stream",
     "text": [
      "The mean of the data is 17.1.\n",
      "The median of the data is 17.5.\n",
      "The data has no mode.\n"
     ]
    }
   ],
   "source": [
    "import statistics as stat\n",
    "data = [12, 15, 14, 10, 18, 20, 22, 24, 17, 19]\n",
    "print(f\"The mean of the data is {stat.mean(data)}.\")\n",
    "print(f\"The median of the data is {stat.median(data)}.\")\n",
    "print(f\"The data has no mode.\")"
   ]
  },
  {
   "cell_type": "markdown",
   "id": "23a15567-a9f0-4b68-8877-e66c465584ee",
   "metadata": {},
   "source": [
    "### 2.Percentiles and Quartiles\n",
    "__Q. Compute the 25th percentile (Q1), 50th percentile (Q2), and 75th percentile (Q3) for the dataset using both tools.__ "
   ]
  },
  {
   "cell_type": "code",
   "execution_count": 2,
   "id": "35880eae-8b49-4297-a153-e2679c262f53",
   "metadata": {},
   "outputs": [
    {
     "name": "stdout",
     "output_type": "stream",
     "text": [
      "The 25th quantile is 13.5.\n",
      "The 50th quartile is 17.5.\n",
      "The 75th quartile is 20.5.\n"
     ]
    }
   ],
   "source": [
    "list_1 = stat.quantiles(data,n=4)\n",
    "print(f'The 25th quantile is {list_1[0]}.')\n",
    "print(f'The 50th quartile is {list_1[1]}.')\n",
    "print(f'The 75th quartile is {list_1[2]}.')"
   ]
  },
  {
   "cell_type": "markdown",
   "id": "6c79fa38-3541-4634-a974-63b3f7e12e93",
   "metadata": {},
   "source": [
    "### 3.Interquartile Range (IQR)\n",
    "__Q. Find the IQR for the given dataset and explain its significance.__ "
   ]
  },
  {
   "cell_type": "code",
   "execution_count": 3,
   "id": "e7d8e22a-98f8-406b-acba-41a37f04433e",
   "metadata": {},
   "outputs": [
    {
     "name": "stdout",
     "output_type": "stream",
     "text": [
      "The interquartile range is 7.0.\n"
     ]
    }
   ],
   "source": [
    "iqr = list_1[2] - list_1[0]\n",
    "print(f'The interquartile range is {iqr}.')"
   ]
  },
  {
   "cell_type": "markdown",
   "id": "c36065ae-bd4d-4828-8ec7-66ae0b66a678",
   "metadata": {},
   "source": [
    "### 4. Min and Max\n",
    "__Q. Identify the minimum and maximum values from the dataset.__ "
   ]
  },
  {
   "cell_type": "code",
   "execution_count": 4,
   "id": "09aca7a3-d32f-4ecb-916f-3c9f4589ac53",
   "metadata": {},
   "outputs": [
    {
     "name": "stdout",
     "output_type": "stream",
     "text": [
      "The minimum value is 10\n",
      "The maximum value is 24\n"
     ]
    }
   ],
   "source": [
    "print(f\"The minimum value is {min(data)}\")\n",
    "print(f\"The maximum value is {max(data)}\")"
   ]
  },
  {
   "cell_type": "markdown",
   "id": "506aa0cc-093f-48b9-b374-f22876aedef0",
   "metadata": {},
   "source": [
    "### 5.Find outliers using Quartiles.\n",
    "__Q1. Compute the Lower Bound and Upper Bound.__  \n",
    "\n",
    "__Q2. Identify any outliers in the dataset.__"
   ]
  },
  {
   "cell_type": "code",
   "execution_count": 5,
   "id": "a25a373b-b370-4706-9bcb-7607e46fc031",
   "metadata": {},
   "outputs": [
    {
     "name": "stdout",
     "output_type": "stream",
     "text": [
      "The lower bound is 3.0 and the upper bound is 31.0.\n",
      "There is no outliers in the lower bound\n",
      "There is no outliers in the upper bound\n"
     ]
    }
   ],
   "source": [
    "lower_bound = list_1[0] - 1.5*iqr\n",
    "l = []\n",
    "upper_bound = list_1[2] + 1.5*iqr\n",
    "u = []\n",
    "for i in data:\n",
    "    if i < lower_bound:\n",
    "        l.append(i)\n",
    "    elif i > upper_bound:\n",
    "        u.append(i)\n",
    "print(f'The lower bound is {lower_bound} and the upper bound is {upper_bound}.')\n",
    "if len(l) == 0:\n",
    "    print(f'There is no outliers in the lower bound')\n",
    "else:\n",
    "    print(f\"The outliers are {l}.\")\n",
    "if len(u) == 0:\n",
    "    print(f'There is no outliers in the upper bound')\n",
    "else:\n",
    "    print(f\"The outliers are {u}.\")"
   ]
  },
  {
   "cell_type": "markdown",
   "id": "35857ed7-bad2-4576-9085-554c98340ab7",
   "metadata": {},
   "source": [
    "### 6. Measures of dispersion\n",
    "__Q. Compute the Range, Variance, and Standard Deviation using both Excel/Google Sheets/Python.__ "
   ]
  },
  {
   "cell_type": "code",
   "execution_count": 6,
   "id": "7c0355ad-9feb-4dd6-8599-187517e44c0e",
   "metadata": {},
   "outputs": [
    {
     "name": "stdout",
     "output_type": "stream",
     "text": [
      "The range is 24 - 10 = 14\n",
      "The variance of the data is 19.43\n",
      "The standard deviation of the data is 4.41\n"
     ]
    }
   ],
   "source": [
    "print(f'The range is {max(data)} - {min(data)} = {max(data) - min(data)}')\n",
    "print(f'The variance of the data is {stat.variance(data):.2f}')\n",
    "print(f'The standard deviation of the data is {stat.stdev(data):.2f}')"
   ]
  },
  {
   "cell_type": "markdown",
   "id": "969d29a5-cdd2-449d-b0dd-7360c1baf46d",
   "metadata": {},
   "source": [
    "### Z-score Standardization\n",
    "__Q. Compute the Z-scores for each value in the dataset and explain its significance in data standardization.__ "
   ]
  },
  {
   "cell_type": "code",
   "execution_count": 7,
   "id": "1ba490a4-3710-4170-a679-b10078a7325e",
   "metadata": {},
   "outputs": [
    {
     "name": "stdout",
     "output_type": "stream",
     "text": [
      "Z-score of 12: -1.16\n",
      "Z-score of 15: -0.48\n",
      "Z-score of 14: -0.70\n",
      "Z-score of 10: -1.61\n",
      "Z-score of 18: 0.20\n",
      "Z-score of 20: 0.66\n",
      "Z-score of 22: 1.11\n",
      "Z-score of 24: 1.57\n",
      "Z-score of 17: -0.02\n",
      "Z-score of 19: 0.43\n"
     ]
    }
   ],
   "source": [
    "for i in data:\n",
    "    print(f\"Z-score of {i}: {(i - stat.mean(data))/stat.stdev(data):.2f}\")"
   ]
  },
  {
   "cell_type": "markdown",
   "id": "a1ff5236-220a-4394-96fd-6a0ee9638456",
   "metadata": {},
   "source": [
    "Z-score helps us to describe individual datapoints by their distance from the mean by using standard deviation.This is reffered to as the datapoint's z-score."
   ]
  },
  {
   "cell_type": "markdown",
   "id": "ba7f1daf-9cf8-4304-bdf8-0dbdf2028d5e",
   "metadata": {},
   "source": [
    "### 8.Correlation Coefficient : Pearson\n",
    "__Q. Given two datasets x = [10, 20, 30, 40, 50] and y = [5, 10, 15, 20, 25], compute the Pearson correlation coefficient.__ "
   ]
  },
  {
   "cell_type": "code",
   "execution_count": 8,
   "id": "d7c4a0d7-c900-46f8-8c5b-ef218dd2305b",
   "metadata": {},
   "outputs": [],
   "source": [
    "from scipy.stats import pearsonr\n",
    "x,y = [10, 20, 30, 40, 50],[5, 10, 15, 20, 25]\n",
    "correlation_coefficient,_ = pearsonr(x,y)"
   ]
  },
  {
   "cell_type": "code",
   "execution_count": 9,
   "id": "736ecd4b-646f-40e4-8a75-d4f0b1002b5e",
   "metadata": {},
   "outputs": [
    {
     "name": "stdout",
     "output_type": "stream",
     "text": [
      "The pearson correlation coefficient is 1.00\n"
     ]
    }
   ],
   "source": [
    "print(f\"The pearson correlation coefficient is {correlation_coefficient:.2f}\")"
   ]
  },
  {
   "cell_type": "markdown",
   "id": "98eb7234-81b0-43ea-b385-3a762dd2d43d",
   "metadata": {},
   "source": [
    "### 9. Scatter Plot Visualization\n",
    "__Q. Create a scatter plot using both Excel/Python to visually inspect the correlation between x and y.__ "
   ]
  },
  {
   "cell_type": "code",
   "execution_count": 10,
   "id": "505e2334-9200-4b35-9ce0-57bc75cf3659",
   "metadata": {},
   "outputs": [
    {
     "data": {
      "text/plain": [
       "Text(0.5, 1.0, 'Scatter Plot of X vs Y')"
      ]
     },
     "execution_count": 10,
     "metadata": {},
     "output_type": "execute_result"
    },
    {
     "data": {
      "image/png": "[encoded data removed]",
      "text/plain": [
       "<Figure size 640x480 with 1 Axes>"
      ]
     },
     "metadata": {},
     "output_type": "display_data"
    }
   ],
   "source": [
    "import matplotlib.pyplot as plt\n",
    "\n",
    "scatter = plt.scatter(x, y, color='blue')\n",
    "plt.xlabel('X Values')\n",
    "plt.ylabel('Y Values')\n",
    "plt.title('Scatter Plot of X vs Y')"
   ]
  },
  {
   "cell_type": "markdown",
   "id": "82805a1c-e41b-46ab-bd89-4a3ca32b6b74",
   "metadata": {},
   "source": [
    "### 10. Box Plot Visualization\n",
    "__Q. Create a box plot for the dataset to visualize Q1, Q2, Q3, lower bound, upper bound, and outliers.__ "
   ]
  },
  {
   "cell_type": "code",
   "execution_count": 11,
   "id": "3ea2561d-4986-472f-bda2-fea7ce8b7dd2",
   "metadata": {},
   "outputs": [
    {
     "data": {
      "text/plain": [
       "Text(0.5, 1.0, 'Box plot of dataset')"
      ]
     },
     "execution_count": 11,
     "metadata": {},
     "output_type": "execute_result"
    },
    {
     "data": {
      "image/png": "[encoded data removed]",
      "text/plain": [
       "<Figure size 640x480 with 1 Axes>"
      ]
     },
     "metadata": {},
     "output_type": "display_data"
    }
   ],
   "source": [
    "plt.boxplot(data)\n",
    "plt.title('Box plot of dataset')"
   ]
  },
  {
   "cell_type": "markdown",
   "id": "c3862b30-42fc-4d6d-8aa7-ea33817aed15",
   "metadata": {},
   "source": [
    "### 11. Histogram Analysis\n",
    "__Q. Construct a histogram to show the frequency distribution of the dataset.__ "
   ]
  },
  {
   "cell_type": "code",
   "execution_count": 12,
   "id": "5a7c3251-e07e-4c9e-809c-a46017427955",
   "metadata": {},
   "outputs": [
    {
     "data": {
      "text/plain": [
       "Text(0.5, 1.0, 'Histogram of dataset')"
      ]
     },
     "execution_count": 12,
     "metadata": {},
     "output_type": "execute_result"
    },
    {
     "data": {
      "image/png": "[encoded data removed]",
      "text/plain": [
       "<Figure size 640x480 with 1 Axes>"
      ]
     },
     "metadata": {},
     "output_type": "display_data"
    }
   ],
   "source": [
    "plt.hist(data,bins = 15,color = 'red')\n",
    "plt.title(\"Histogram of dataset\")"
   ]
  },
  {
   "cell_type": "markdown",
   "id": "a9371252-d9cd-4a98-8277-0e3ab64551fd",
   "metadata": {},
   "source": [
    "# Section 2: Inferential Statistics"
   ]
  },
  {
   "cell_type": "markdown",
   "id": "cda7f3b6-1275-47f2-b829-e328ab546c5a",
   "metadata": {},
   "source": [
    "### 12. Why Inferential Statistics?  \n",
    "__Q. Explain the relation between correlation and causation with example.__\n",
    "\n",
    "\n",
    "A. Correlation refers to a statistical association between two variables. When one variable changes, the other tends to change as well. This relationship can be positive (both variables increase or decrease together) or negative (one variable increases while the other decreases).\n",
    "Example, as the temperature increases, ice cream sales also increase, showing a positive correlation\n",
    "\n",
    "Causation, on the other hand, implies that a change in one variable directly causes a change in another. This means there is a cause-and-effect relationship between the variables.\n",
    "Example,amount of monsoon rainfall directly causes the level of rice production in Kerala. This is an example of causation because the rainfall (cause) directly influences the growth and yield of rice crops (effect).\n",
    "\n",
    "Correlation does not imply causation. Just because two things are related doesn't mean one causes the other. "
   ]
  },
  {
   "cell_type": "markdown",
   "id": "fa0639b4-c8a3-43f6-b79a-e19bcd9259f7",
   "metadata": {},
   "source": [
    "### 13. Population vs Sample: \n",
    "__Q. Why do we need sampling? Provide a real world example.__\n",
    "\n",
    "A. Sampling is important because it allows us to draw conclusions about a larger population without having to study every individual within that population. It helps us to save time, resources, and effort while still providing reliable and accurate results.\n",
    "\n",
    "Example: During election to know which party will win we cannot get the response from every voter in the country therefore we create a sample which includes men, women, minorities, etc to get a response close to original."
   ]
  },
  {
   "cell_type": "markdown",
   "id": "e0b99df5-4ee8-4843-b047-0c6feaad71db",
   "metadata": {},
   "source": [
    "### 14. Hypothesis Testing Concepts:\n",
    "__Q. Define Null Hypothesis, Alternate Hypothesis, Significance Level(α) and P-value.__\n",
    "\n",
    "A. The __null hypothesis__ is a statement that there is no effect or no difference. It's the default assumption that nothing has changed or that there is no association between variables.  \n",
    "\n",
    "The __alternate hypothesis__ is a statement that there is an effect or a difference. If the null hypothesis is rejected, the alternate hypothesis is accepted.  \n",
    "\n",
    "The __significance level__, often denoted by α, is the threshold for determining whether a result is statistically significant. It represents the probability of rejecting the null hypothesis when it is actually true.Typically used values are 0.05 (e.g. e-commerce ) and 0.01 (e.g in fileds like medicine).  \n",
    "\n",
    "The __p-value__ is the probability of obtaining results at least as extreme as those observed, assuming the null hypothesis is true. It helps determine whether the observed data is consistent with the null hypothesis. If the p-value is less than or equal to the significance level (α), you reject the null hypothesis."
   ]
  },
  {
   "cell_type": "markdown",
   "id": "d8c58705-710e-45de-9978-863616f7cb8d",
   "metadata": {},
   "source": [
    "### 15. Z-test Calculation:  \n",
    "__Q. Given a sample mean of 25, population mean of 22, population standard deviation of 3, and sample size of 40, compute the Z-test statistic and interpret the results.__ "
   ]
  },
  {
   "cell_type": "code",
   "execution_count": 13,
   "id": "7b966268-0911-4091-8a3f-e10982d2d5f5",
   "metadata": {},
   "outputs": [
    {
     "name": "stdout",
     "output_type": "stream",
     "text": [
      "The Z test statistic computed is 6.325\n"
     ]
    }
   ],
   "source": [
    "import math\n",
    "from scipy.stats import norm\n",
    "sample_mean = 25\n",
    "population_mean = 22\n",
    "population_stdev = 3\n",
    "sample_size = 40\n",
    "z_computed = (sample_mean - population_mean)/(population_stdev/math.sqrt(sample_size))\n",
    "print(f'The Z test statistic computed is {z_computed:.3f}')"
   ]
  },
  {
   "cell_type": "markdown",
   "id": "a2c6e51f-c0c7-4fe1-8ed0-dca2e2a4ef2e",
   "metadata": {},
   "source": [
    "### 16. P-value computation for Z-test:  \n",
    "__Q. Using a standard normal table, find the p-value corresponding to the Z-test statistic computed in the previous question and determine whether to reject the null hypothesis at α = 0.05.__ "
   ]
  },
  {
   "cell_type": "code",
   "execution_count": 14,
   "id": "9e87e231-32dc-4325-b81e-3fd16743e83e",
   "metadata": {},
   "outputs": [
    {
     "name": "stdout",
     "output_type": "stream",
     "text": [
      "Reject the null hypothesis.\n"
     ]
    }
   ],
   "source": [
    "p_value = 2 * (1 - norm.cdf(abs(z_computed))) # two tailed\n",
    "alpha = 0.05\n",
    "\n",
    "if p_value < alpha:\n",
    "    print(\"Reject the null hypothesis.\")\n",
    "else:\n",
    "    print(\"Fail to reject the null hypothesis.\")"
   ]
  },
  {
   "cell_type": "markdown",
   "id": "0f69863b-ac1d-4533-aae9-56ee77e8925b",
   "metadata": {},
   "source": [
    "### 17. One Sample T-test:\n",
    "__Q. Given a sample of data = [45, 50, 55, 60, 62, 48, 52], test whether the mean is significantly different from 50 using a one-sample t-test.__"
   ]
  },
  {
   "cell_type": "code",
   "execution_count": 15,
   "id": "b9764f18-0c77-4a65-af63-77b6f936be5a",
   "metadata": {},
   "outputs": [
    {
     "name": "stdout",
     "output_type": "stream",
     "text": [
      "The t-value computed is 1.335.\n",
      "Critical T-Value is 2.447\n",
      "Fail to reject Null Hypothesis.The mean is not significantly different from 50 using a one-sample t-test.\n"
     ]
    }
   ],
   "source": [
    "from scipy.stats import t\n",
    "sample_data = [45,50,55,60,62,48,52]\n",
    "t_mean = stat.mean(sample_data)\n",
    "t_pop_mean = 50\n",
    "sample_stdev = stat.stdev(sample_data)\n",
    "n_ = len(sample_data)\n",
    "t_value = float((t_mean - t_pop_mean)/(sample_stdev/math.sqrt(n_)))\n",
    "print(f\"The t-value computed is {t_value:.3f}.\")\n",
    "\n",
    "alpha = 0.05\n",
    "df = n_ - 1  # degrees of freedom\n",
    "critical_t_value = t.ppf(1 - alpha / 2, df) # two tailed test\n",
    "\n",
    "print(f\"Critical T-Value is {critical_t_value:.3f}\")\n",
    "\n",
    "if abs(t_value) < critical_t_value:\n",
    "    print(\"Fail to reject Null Hypothesis.The mean is not significantly different from 50 using a one-sample t-test.\")\n",
    "else:\n",
    "     print(\"Reject null hypothesis.\")"
   ]
  },
  {
   "cell_type": "markdown",
   "id": "9cd0b8a9-ca85-480c-a486-b20659d7b50d",
   "metadata": {},
   "source": [
    "### 18. Independent Sample T-test:  \n",
    "__Q. Two groups of students took a math test. Their scores are: \n",
    "○ Group 1: [85, 90, 88, 92, 86] \n",
    "○ Group 2: [78, 75, 80, 83, 79] \n",
    "Perform an independent sample t-test to determine if there is a significant difference between the means.__ "
   ]
  },
  {
   "cell_type": "code",
   "execution_count": 16,
   "id": "bba4aa60-36f7-4e5c-9335-3b47d6446329",
   "metadata": {},
   "outputs": [
    {
     "name": "stdout",
     "output_type": "stream",
     "text": [
      "The T-test statistic computed is 1.996.\n"
     ]
    }
   ],
   "source": [
    "Group1 = [85, 90, 88, 92, 86] \n",
    "Group2 = [78, 75, 80, 83, 79]\n",
    "deg_f = len(Group1) + len(Group2) - 2\n",
    "grp1_stdev = stat.stdev(Group1)\n",
    "grp2_stdev = stat.stdev(Group2)\n",
    "stdev_pooled = ((len(Group1) -1)*(grp1_stdev*grp1_stdev) + (len(Group2) -2)*(grp2_stdev*grp2_stdev))/(len(Group1) + len(Group2) -2)\n",
    "t_test_stat = (stat.mean(Group1) - stat.mean(Group2))/(stdev_pooled*math.sqrt((1/len(Group1))+(1/len(Group2))))\n",
    "print(f\"The T-test statistic computed is {t_test_stat:.3f}.\")"
   ]
  },
  {
   "cell_type": "markdown",
   "id": "60b24143-4b21-4ee8-9c23-5c9eea6dfe16",
   "metadata": {},
   "source": [
    "### 19. Critical T-value Lookup:  \n",
    "__Q. Using a t-table, find the critical t-value for α = 0.05 with degrees of freedom appropriate for question 18 and interpret the results.__"
   ]
  },
  {
   "cell_type": "code",
   "execution_count": 17,
   "id": "002ababb-5c09-495d-b5bd-220e062722fe",
   "metadata": {},
   "outputs": [
    {
     "name": "stdout",
     "output_type": "stream",
     "text": [
      "The critical t-value is 2.306.\n",
      "Fail to reject Null Hypothesis.\n"
     ]
    }
   ],
   "source": [
    "critical_t_val = t.ppf(1 - alpha / 2, deg_f) # two tailed test\n",
    "print(f\"The critical t-value is {critical_t_val:.3f}.\")\n",
    "if abs(t_test_stat) < critical_t_val:\n",
    "    print(\"Fail to reject Null Hypothesis.\")\n",
    "else:\n",
    "     print(\"Reject null hypothesis.\")"
   ]
  },
  {
   "cell_type": "markdown",
   "id": "1af2aa34-e64d-43d4-bdb5-92aaf01958fa",
   "metadata": {},
   "source": [
    "### 20. Summary and Insights:  \n",
    "__Q. Summarize the key takeaways from the analysis performed above and describe how descriptive and inferential statistics can be used in real-world data analysis.__\n",
    "\n",
    "A. __Key Takeaways :__  \n",
    "\n",
    "Mean, Median, Range: Central values and spread of data.\n",
    "\n",
    "Variance, Standard Deviation: Measure data dispersion.\n",
    "\n",
    "Z-test, T-test: Compare sample means to population means or between groups.\n",
    "\n",
    "__Real-world Usage :__  \n",
    "\n",
    "Descriptive Statistics: Summarize and describe data (e.g., average test scores).\n",
    "\n",
    "Inferential Statistics: Make predictions and generalize findings (e.g., effectiveness of a new drug based on sample data)."
   ]
  },
  {
   "cell_type": "code",
   "execution_count": null,
   "id": "a35c1eb6-a1e2-46cc-8350-b251ca4b20a2",
   "metadata": {},
   "outputs": [],
   "source": []
  }
 ],
 "metadata": {
  "kernelspec": {
   "display_name": "Python 3 (ipykernel)",
   "language": "python",
   "name": "python3"
  },
  "language_info": {
   "codemirror_mode": {
    "name": "ipython",
    "version": 3
   },
   "file_extension": ".py",
   "mimetype": "text/x-python",
   "name": "python",
   "nbconvert_exporter": "python",
   "pygments_lexer": "ipython3",
   "version": "3.13.2"
  }
 },
 "nbformat": 4,
 "nbformat_minor": 5
}
